{
 "metadata": {
  "name": "",
  "signature": "sha256:f653b6945dcf9feb7463967cfc1e9811fabe3550a180ebea6454db60cb8127ad"
 },
 "nbformat": 3,
 "nbformat_minor": 0,
 "worksheets": []
}